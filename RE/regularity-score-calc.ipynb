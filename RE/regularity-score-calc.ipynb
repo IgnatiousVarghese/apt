{
 "cells": [
  {
   "cell_type": "code",
   "execution_count": 10,
   "metadata": {
    "_cell_guid": "b1076dfc-b9ad-4769-8c92-a6c4dae69d19",
    "_uuid": "8f2839f25d086af736a60e9eeb907d3b93b6e0e5",
    "tags": []
   },
   "outputs": [],
   "source": [
    "import os\n",
    "import re\n",
    "import sqlite3\n",
    "import csv\n",
    "import pandas as pd\n",
    "from datetime import datetime\n",
    "from tqdm.auto import tqdm\n",
    "import json"
   ]
  },
  {
   "cell_type": "code",
   "execution_count": 11,
   "metadata": {
    "_cell_guid": "b1076dfc-b9ad-4769-8c92-a6c4dae69d19",
    "_uuid": "8f2839f25d086af736a60e9eeb907d3b93b6e0e5",
    "tags": []
   },
   "outputs": [],
   "source": [
    "counterTableName = 'counter'\n",
    "# to keep track of the logical time of last inserted edge i.e total number of edges\n",
    "\n",
    "dbname = os.path.join('toy.db')\n",
    "# train data DB\n",
    "\n",
    "# graphs pre loaded to calculate regularity score\n",
    "edgeTableName = 'edges'  \n",
    "# graph on which regularity score calculated\n",
    "evalEdgeTableName = 'edgestemp'\n",
    "\n",
    "\n",
    "totalTimeWindows = 20\n",
    "timeWindow = 1\n",
    "totalTime = 0\n",
    "\n",
    "# reScoresTable stores regularity score mapped with edge data {'edge': 'score')}\n",
    "reScoresTable = {}\n",
    "\n",
    "def timeWindowCalc():\n",
    "    global totalTime\n",
    "    global timeWindow\n",
    "    global totalTimeWindows\n",
    "    conn = sqlite3.connect(dbname)\n",
    "    cur = conn.cursor()\n",
    "    totalTime = cur.execute(\"\"\"select * from {};\"\"\".format(counterTableName)).fetchone()[0]\n",
    "    timeWindow = int(totalTime / totalTimeWindows)\n",
    "    conn.close()\n",
    "\n",
    "def getStability(src, edgeType, dest):\n",
    "    conn = sqlite3.connect(dbname)\n",
    "    cur = conn.cursor()\n",
    "    \n",
    "    #out(src)      #in(dest)\n",
    "\n",
    "    #same notation as in research paper , initial count = 0\n",
    "    T_from = 0      #out stable\n",
    "    T_to = 0        #in stable\n",
    "    T_total = 0\n",
    "\n",
    "    for timeStart in  range(1, totalTime, timeWindow):\n",
    "        timeEnd = timeStart + timeWindow - 1 \n",
    "\n",
    "        qry = \"\"\"SELECT count(*) from {}  \n",
    "                where src_type = '{}' and \n",
    "                edge_type = '{}' and\n",
    "                dest_type != '{}' and\n",
    "                logical_time >= {} and logical_time <= {};\"\"\".format(edgeTableName, src, edgeType, dest, timeStart, timeEnd)\n",
    "\n",
    "        countFrom = cur.execute(qry).fetchall()[0][0]\n",
    "\n",
    "        qry = \"\"\"SELECT count(*) from {}  \n",
    "                where dest_type = '{}' and \n",
    "                edge_type = '{}' and\n",
    "                src_type != '{}' and\n",
    "                logical_time >= {} and logical_time <= {};\"\"\".format(edgeTableName, dest, edgeType, src, timeStart, timeEnd)\n",
    "\n",
    "        countTo = cur.execute(qry).fetchall()[0][0]\n",
    "        # print('cf-{} ct-{} timestart-{}'.format(countFrom, countTo, timeStart))\n",
    "        if countFrom == 0:\n",
    "              T_from = T_from + 1 \n",
    "        if countTo == 0:\n",
    "              T_to = T_to + 1\n",
    "        T_total = T_total +1\n",
    "\n",
    "    IN_dest = float(T_to) / float(T_total)\n",
    "    OUT_src = float(T_from) / float(T_total)\n",
    "    \n",
    "    ###\n",
    "    # avoiding zero value for stability\n",
    "    ###\n",
    "    if IN_dest == 0.0:\n",
    "        IN_dest = 0.0000001\n",
    "    if OUT_src == 0.0:\n",
    "        OUT_src = 0.0000001\n",
    "    ###\n",
    "    \n",
    "    conn.close()\n",
    "    \n",
    "    reScore = float(IN_dest * OUT_src)\n",
    "    reScoresTable[\"{}{}{}\".format(src, edgeType, dest)] = reScore\n",
    "    # print(\"{} -- {}{}{}\".format(reScore, src, edgeType, dest))\n",
    "\n",
    "\n",
    "#input as src_type, edge_type, dest_type\n",
    "def calculateRegularityScore(src_type, edge_type, dest_type):\n",
    "    if totalTime == 0:\n",
    "        print('timeWindowCalc()') \n",
    "        timeWindowCalc()\n",
    "    \n",
    "    if reScoresTable.get(src_type + edge_type + dest_type) == None:\n",
    "        getStability(src_type, edge_type, dest_type)\n",
    "    \n",
    "    return reScoresTable.get(src_type + edge_type + dest_type)"
   ]
  },
  {
   "cell_type": "code",
   "execution_count": 12,
   "metadata": {
    "tags": []
   },
   "outputs": [],
   "source": [
    "def evaluvateGraph(tableName, graphFile):\n",
    "    reScores = {}\n",
    "    conn = sqlite3.connect(dbname)\n",
    "    cur = conn.cursor()\n",
    "\n",
    "    qry = \"\"\"SELECT DISTINCT dest_id from {}  \n",
    "            where dest_id not in\n",
    "            (SELECT DISTINCT dest_id from {}  \n",
    "            where dest_id not in ( SELECT DISTINCT src_id from {} ))\"\"\".format(tableName, tableName, tableName)\n",
    "\n",
    "    nonLeafDestNodes = cur.execute(qry).fetchall()\n",
    "    conn.commit()\n",
    "    conn.close()\n",
    "    \n",
    "        \n",
    "    chunk = pd.read_csv(graphFile, chunksize=10000)\n",
    "    df = pd.concat(chunk)\n",
    "    with tqdm(total=len(df.index)) as pbar:\n",
    "        for index, row in df.iterrows():\n",
    "            src_id = int(row['src_id'])\n",
    "            dest_id = int(row['dest_id'])\n",
    "            if reScores.get(src_id) == None:\n",
    "                reScores[src_id] = 1.0\n",
    "\n",
    "\n",
    "            reScore = calculateRegularityScore(row['src_type'], row['edge_type'], row['dest_type'])\n",
    "            reScores[dest_id] = reScores[src_id] * reScore\n",
    "            # print('{}---- {} {} {}'.format(reScore, row['src_type'], row['edge_type'], row['dest_type']))\n",
    "            \n",
    "            pbar.update(1)\n",
    "    for d in nonLeafDestNodes:\n",
    "        reScores.pop(d[0])\n",
    "        \n",
    "    return reScores"
   ]
  },
  {
   "cell_type": "code",
   "execution_count": 13,
   "metadata": {
    "tags": []
   },
   "outputs": [
    {
     "name": "stdout",
     "output_type": "stream",
     "text": [
      "['base-70', 'base-71', 'base-72', 'base-73', 'base-74', 'base-75', 'base-76', 'base-77', 'base-78', 'base-79', 'base-80', 'base-81', 'base-82', 'base-83', 'base-84', 'base-170', 'base-171', 'base-172', 'base-173', 'base-174', 'base-175', 'base-176', 'base-177', 'base-178', 'base-179', 'base-180', 'base-181', 'base-182', 'base-183', 'base-184', 'base-300', 'base-301', 'base-302', 'base-303', 'base-304', 'base-305', 'base-306', 'base-307', 'base-308', 'base-309', 'base-310', 'base-311', 'base-312', 'base-313', 'base-314']\n"
     ]
    },
    {
     "data": {
      "application/vnd.jupyter.widget-view+json": {
       "model_id": "03f70e8bc4764909b9093d142c1abd1c",
       "version_major": 2,
       "version_minor": 0
      },
      "text/plain": [
       "  0%|          | 0/45 [00:00<?, ?it/s]"
      ]
     },
     "metadata": {},
     "output_type": "display_data"
    },
    {
     "data": {
      "application/vnd.jupyter.widget-view+json": {
       "model_id": "9fbf7e02d42e4197a7f981a9707feb48",
       "version_major": 2,
       "version_minor": 0
      },
      "text/plain": [
       "  0%|          | 0/101280 [00:00<?, ?it/s]"
      ]
     },
     "metadata": {},
     "output_type": "display_data"
    },
    {
     "name": "stdout",
     "output_type": "stream",
     "text": [
      "timeWindowCalc()\n"
     ]
    },
    {
     "data": {
      "application/vnd.jupyter.widget-view+json": {
       "model_id": "ce540944e93345af95c98894ee496f0a",
       "version_major": 2,
       "version_minor": 0
      },
      "text/plain": [
       "  0%|          | 0/216745 [00:00<?, ?it/s]"
      ]
     },
     "metadata": {},
     "output_type": "display_data"
    },
    {
     "data": {
      "application/vnd.jupyter.widget-view+json": {
       "model_id": "3578415145d64eef9dc741028989db6b",
       "version_major": 2,
       "version_minor": 0
      },
      "text/plain": [
       "  0%|          | 0/105935 [00:00<?, ?it/s]"
      ]
     },
     "metadata": {},
     "output_type": "display_data"
    },
    {
     "data": {
      "application/vnd.jupyter.widget-view+json": {
       "model_id": "b7764c458e7b4246972b9dd1b5643d73",
       "version_major": 2,
       "version_minor": 0
      },
      "text/plain": [
       "  0%|          | 0/111652 [00:00<?, ?it/s]"
      ]
     },
     "metadata": {},
     "output_type": "display_data"
    },
    {
     "data": {
      "application/vnd.jupyter.widget-view+json": {
       "model_id": "e5ac847adb3a4414b529110c72777cdd",
       "version_major": 2,
       "version_minor": 0
      },
      "text/plain": [
       "  0%|          | 0/112569 [00:00<?, ?it/s]"
      ]
     },
     "metadata": {},
     "output_type": "display_data"
    },
    {
     "data": {
      "application/vnd.jupyter.widget-view+json": {
       "model_id": "2e200c20751842dda6e390c627efc1a6",
       "version_major": 2,
       "version_minor": 0
      },
      "text/plain": [
       "  0%|          | 0/98641 [00:00<?, ?it/s]"
      ]
     },
     "metadata": {},
     "output_type": "display_data"
    },
    {
     "data": {
      "application/vnd.jupyter.widget-view+json": {
       "model_id": "da323dd7b7eb4f1cbfecbca1fe57ee8a",
       "version_major": 2,
       "version_minor": 0
      },
      "text/plain": [
       "  0%|          | 0/219583 [00:00<?, ?it/s]"
      ]
     },
     "metadata": {},
     "output_type": "display_data"
    },
    {
     "data": {
      "application/vnd.jupyter.widget-view+json": {
       "model_id": "3cf925c5c2c04e94b83ab217ae56eda8",
       "version_major": 2,
       "version_minor": 0
      },
      "text/plain": [
       "  0%|          | 0/102220 [00:00<?, ?it/s]"
      ]
     },
     "metadata": {},
     "output_type": "display_data"
    },
    {
     "data": {
      "application/vnd.jupyter.widget-view+json": {
       "model_id": "3bd92b8fd0334d99a10df309e6f057f9",
       "version_major": 2,
       "version_minor": 0
      },
      "text/plain": [
       "  0%|          | 0/100268 [00:00<?, ?it/s]"
      ]
     },
     "metadata": {},
     "output_type": "display_data"
    },
    {
     "data": {
      "application/vnd.jupyter.widget-view+json": {
       "model_id": "b0806a3739af440682e984052fedb54b",
       "version_major": 2,
       "version_minor": 0
      },
      "text/plain": [
       "  0%|          | 0/109131 [00:00<?, ?it/s]"
      ]
     },
     "metadata": {},
     "output_type": "display_data"
    },
    {
     "data": {
      "application/vnd.jupyter.widget-view+json": {
       "model_id": "5a5e2b02536b4e14a73bc167770c3426",
       "version_major": 2,
       "version_minor": 0
      },
      "text/plain": [
       "  0%|          | 0/100138 [00:00<?, ?it/s]"
      ]
     },
     "metadata": {},
     "output_type": "display_data"
    },
    {
     "data": {
      "application/vnd.jupyter.widget-view+json": {
       "model_id": "2524365fc88d456abd863ba2ed55cb0a",
       "version_major": 2,
       "version_minor": 0
      },
      "text/plain": [
       "  0%|          | 0/150109 [00:00<?, ?it/s]"
      ]
     },
     "metadata": {},
     "output_type": "display_data"
    },
    {
     "name": "stdout",
     "output_type": "stream",
     "text": [
      "base-82 does not exists\n",
      "base-83 does not exists\n"
     ]
    },
    {
     "data": {
      "application/vnd.jupyter.widget-view+json": {
       "model_id": "49d90c595979409b9cc19315ae21473d",
       "version_major": 2,
       "version_minor": 0
      },
      "text/plain": [
       "  0%|          | 0/98267 [00:00<?, ?it/s]"
      ]
     },
     "metadata": {},
     "output_type": "display_data"
    },
    {
     "data": {
      "application/vnd.jupyter.widget-view+json": {
       "model_id": "53da544b82b54366a344c245fa528fe1",
       "version_major": 2,
       "version_minor": 0
      },
      "text/plain": [
       "  0%|          | 0/33074 [00:00<?, ?it/s]"
      ]
     },
     "metadata": {},
     "output_type": "display_data"
    },
    {
     "data": {
      "application/vnd.jupyter.widget-view+json": {
       "model_id": "d975b31b8a3c47d3ad75bc1ede8e9747",
       "version_major": 2,
       "version_minor": 0
      },
      "text/plain": [
       "  0%|          | 0/32016 [00:00<?, ?it/s]"
      ]
     },
     "metadata": {},
     "output_type": "display_data"
    },
    {
     "data": {
      "application/vnd.jupyter.widget-view+json": {
       "model_id": "afb411ebaf034bc0884a6ae0eac6d2e2",
       "version_major": 2,
       "version_minor": 0
      },
      "text/plain": [
       "  0%|          | 0/32590 [00:00<?, ?it/s]"
      ]
     },
     "metadata": {},
     "output_type": "display_data"
    },
    {
     "data": {
      "application/vnd.jupyter.widget-view+json": {
       "model_id": "7eaf7f765b0f4520be37160e9fee9e8d",
       "version_major": 2,
       "version_minor": 0
      },
      "text/plain": [
       "  0%|          | 0/33466 [00:00<?, ?it/s]"
      ]
     },
     "metadata": {},
     "output_type": "display_data"
    },
    {
     "data": {
      "application/vnd.jupyter.widget-view+json": {
       "model_id": "7b43d4dbca1a4fa4b6db679fd9cc93c4",
       "version_major": 2,
       "version_minor": 0
      },
      "text/plain": [
       "  0%|          | 0/31208 [00:00<?, ?it/s]"
      ]
     },
     "metadata": {},
     "output_type": "display_data"
    },
    {
     "data": {
      "application/vnd.jupyter.widget-view+json": {
       "model_id": "d342d162dd4a48c68200245cb4ebf7c3",
       "version_major": 2,
       "version_minor": 0
      },
      "text/plain": [
       "  0%|          | 0/40000 [00:00<?, ?it/s]"
      ]
     },
     "metadata": {},
     "output_type": "display_data"
    },
    {
     "data": {
      "application/vnd.jupyter.widget-view+json": {
       "model_id": "2c2b6d3308014755a3ffa0280c3b1b78",
       "version_major": 2,
       "version_minor": 0
      },
      "text/plain": [
       "  0%|          | 0/32001 [00:00<?, ?it/s]"
      ]
     },
     "metadata": {},
     "output_type": "display_data"
    },
    {
     "data": {
      "application/vnd.jupyter.widget-view+json": {
       "model_id": "46a87d78f6fa4eb38a7552dc7009f71b",
       "version_major": 2,
       "version_minor": 0
      },
      "text/plain": [
       "  0%|          | 0/37768 [00:00<?, ?it/s]"
      ]
     },
     "metadata": {},
     "output_type": "display_data"
    },
    {
     "data": {
      "application/vnd.jupyter.widget-view+json": {
       "model_id": "88a142bc552a4ef9bdc8d54bb6839123",
       "version_major": 2,
       "version_minor": 0
      },
      "text/plain": [
       "  0%|          | 0/33217 [00:00<?, ?it/s]"
      ]
     },
     "metadata": {},
     "output_type": "display_data"
    },
    {
     "data": {
      "application/vnd.jupyter.widget-view+json": {
       "model_id": "143c51867816442aaec5ab60970a0947",
       "version_major": 2,
       "version_minor": 0
      },
      "text/plain": [
       "  0%|          | 0/32930 [00:00<?, ?it/s]"
      ]
     },
     "metadata": {},
     "output_type": "display_data"
    },
    {
     "data": {
      "application/vnd.jupyter.widget-view+json": {
       "model_id": "169449bf151e4e68ac42c4ac61496953",
       "version_major": 2,
       "version_minor": 0
      },
      "text/plain": [
       "  0%|          | 0/32457 [00:00<?, ?it/s]"
      ]
     },
     "metadata": {},
     "output_type": "display_data"
    },
    {
     "data": {
      "application/vnd.jupyter.widget-view+json": {
       "model_id": "ed8a8a622b3e43968462edb2a317c346",
       "version_major": 2,
       "version_minor": 0
      },
      "text/plain": [
       "  0%|          | 0/39596 [00:00<?, ?it/s]"
      ]
     },
     "metadata": {},
     "output_type": "display_data"
    },
    {
     "data": {
      "application/vnd.jupyter.widget-view+json": {
       "model_id": "e2907ea279aa4290bed1c7713b6bd21a",
       "version_major": 2,
       "version_minor": 0
      },
      "text/plain": [
       "  0%|          | 0/39831 [00:00<?, ?it/s]"
      ]
     },
     "metadata": {},
     "output_type": "display_data"
    },
    {
     "data": {
      "application/vnd.jupyter.widget-view+json": {
       "model_id": "3cba1d8d5af547c9aa761633ffb4f921",
       "version_major": 2,
       "version_minor": 0
      },
      "text/plain": [
       "  0%|          | 0/34197 [00:00<?, ?it/s]"
      ]
     },
     "metadata": {},
     "output_type": "display_data"
    },
    {
     "data": {
      "application/vnd.jupyter.widget-view+json": {
       "model_id": "81098ccfce044b198306e3cd8c629140",
       "version_major": 2,
       "version_minor": 0
      },
      "text/plain": [
       "  0%|          | 0/39412 [00:00<?, ?it/s]"
      ]
     },
     "metadata": {},
     "output_type": "display_data"
    },
    {
     "data": {
      "application/vnd.jupyter.widget-view+json": {
       "model_id": "fe1129803b7a450b9ee20229f92edc29",
       "version_major": 2,
       "version_minor": 0
      },
      "text/plain": [
       "  0%|          | 0/28527 [00:00<?, ?it/s]"
      ]
     },
     "metadata": {},
     "output_type": "display_data"
    },
    {
     "data": {
      "application/vnd.jupyter.widget-view+json": {
       "model_id": "eea4102e1e6d49048d6cba9f4334cc14",
       "version_major": 2,
       "version_minor": 0
      },
      "text/plain": [
       "  0%|          | 0/28441 [00:00<?, ?it/s]"
      ]
     },
     "metadata": {},
     "output_type": "display_data"
    },
    {
     "data": {
      "application/vnd.jupyter.widget-view+json": {
       "model_id": "db9e7d5772b6449e8bcab44763a2addc",
       "version_major": 2,
       "version_minor": 0
      },
      "text/plain": [
       "  0%|          | 0/28531 [00:00<?, ?it/s]"
      ]
     },
     "metadata": {},
     "output_type": "display_data"
    },
    {
     "data": {
      "application/vnd.jupyter.widget-view+json": {
       "model_id": "ad666d6bd8534925ad6740a61f0574dc",
       "version_major": 2,
       "version_minor": 0
      },
      "text/plain": [
       "  0%|          | 0/28351 [00:00<?, ?it/s]"
      ]
     },
     "metadata": {},
     "output_type": "display_data"
    },
    {
     "data": {
      "application/vnd.jupyter.widget-view+json": {
       "model_id": "cbebadb90e26454f850bad100fad8132",
       "version_major": 2,
       "version_minor": 0
      },
      "text/plain": [
       "  0%|          | 0/28459 [00:00<?, ?it/s]"
      ]
     },
     "metadata": {},
     "output_type": "display_data"
    },
    {
     "data": {
      "application/vnd.jupyter.widget-view+json": {
       "model_id": "11337280a966401ead6b9be7f6ea77da",
       "version_major": 2,
       "version_minor": 0
      },
      "text/plain": [
       "  0%|          | 0/28550 [00:00<?, ?it/s]"
      ]
     },
     "metadata": {},
     "output_type": "display_data"
    },
    {
     "data": {
      "application/vnd.jupyter.widget-view+json": {
       "model_id": "4eaa763c5dee4799b0bc45c23fdfce82",
       "version_major": 2,
       "version_minor": 0
      },
      "text/plain": [
       "  0%|          | 0/28361 [00:00<?, ?it/s]"
      ]
     },
     "metadata": {},
     "output_type": "display_data"
    },
    {
     "data": {
      "application/vnd.jupyter.widget-view+json": {
       "model_id": "94db4a37153b4bafb8d809d0a185d6a7",
       "version_major": 2,
       "version_minor": 0
      },
      "text/plain": [
       "  0%|          | 0/28657 [00:00<?, ?it/s]"
      ]
     },
     "metadata": {},
     "output_type": "display_data"
    },
    {
     "data": {
      "application/vnd.jupyter.widget-view+json": {
       "model_id": "066fc6f5827a438bbb9823c31165b889",
       "version_major": 2,
       "version_minor": 0
      },
      "text/plain": [
       "  0%|          | 0/28433 [00:00<?, ?it/s]"
      ]
     },
     "metadata": {},
     "output_type": "display_data"
    },
    {
     "data": {
      "application/vnd.jupyter.widget-view+json": {
       "model_id": "1e1802da623f41018f832efd477bb418",
       "version_major": 2,
       "version_minor": 0
      },
      "text/plain": [
       "  0%|          | 0/28389 [00:00<?, ?it/s]"
      ]
     },
     "metadata": {},
     "output_type": "display_data"
    },
    {
     "data": {
      "application/vnd.jupyter.widget-view+json": {
       "model_id": "47b8e3379a324e3d8becb62ec241f94d",
       "version_major": 2,
       "version_minor": 0
      },
      "text/plain": [
       "0it [00:00, ?it/s]"
      ]
     },
     "metadata": {},
     "output_type": "display_data"
    },
    {
     "data": {
      "application/vnd.jupyter.widget-view+json": {
       "model_id": "438be8fd8e1d42768be057d37ab13b99",
       "version_major": 2,
       "version_minor": 0
      },
      "text/plain": [
       "  0%|          | 0/28414 [00:00<?, ?it/s]"
      ]
     },
     "metadata": {},
     "output_type": "display_data"
    },
    {
     "data": {
      "application/vnd.jupyter.widget-view+json": {
       "model_id": "e96ac9a47fc04bf4b3f174ba9f073f2c",
       "version_major": 2,
       "version_minor": 0
      },
      "text/plain": [
       "  0%|          | 0/28519 [00:00<?, ?it/s]"
      ]
     },
     "metadata": {},
     "output_type": "display_data"
    },
    {
     "data": {
      "application/vnd.jupyter.widget-view+json": {
       "model_id": "4ae9c65fdbb7468cbad81074ebc795f5",
       "version_major": 2,
       "version_minor": 0
      },
      "text/plain": [
       "  0%|          | 0/28516 [00:00<?, ?it/s]"
      ]
     },
     "metadata": {},
     "output_type": "display_data"
    },
    {
     "data": {
      "application/vnd.jupyter.widget-view+json": {
       "model_id": "d52554c1152f43a4904753a4399d1767",
       "version_major": 2,
       "version_minor": 0
      },
      "text/plain": [
       "  0%|          | 0/28566 [00:00<?, ?it/s]"
      ]
     },
     "metadata": {},
     "output_type": "display_data"
    }
   ],
   "source": [
    "def convertTxtToCsv(fname):\n",
    "    with open( 'parsed-graphs/' + fname + '.txt', 'r') as in_file:\n",
    "        stripped = (line.strip() for line in in_file)\n",
    "        lines = (re.split(' |:', line) for line in stripped if line)\n",
    "        with open('test-graphs/' + fname + '.csv', 'w') as out_file:\n",
    "            writer = csv.writer(out_file)\n",
    "            writer.writerow(('src_id', 'dest_id', 'src_type', 'dest_type', 'edge_type', 'logical_time'))\n",
    "            writer.writerows(lines)\n",
    "\n",
    "def populateDB(fname):\n",
    "    # Connect to SQLite database\n",
    "    conn = sqlite3.connect(r'toy.db')\n",
    "\n",
    "    # Load CSV data into Pandas DataFrame\n",
    "    stud_data = pd.read_csv('test-graphs/' + fname + '.csv')\n",
    "    # Write the data to a sqlite table\n",
    "    stud_data.to_sql(''.join(fname.split('-')), conn, if_exists='replace')\n",
    "    conn.close()\n",
    "\n",
    "def deleteTable(fname):\n",
    "    fname = fname.replace('-', '')\n",
    "    # Connect to SQLite database\n",
    "    conn = sqlite3.connect(r'toy.db')\n",
    "    cur = conn.cursor()\n",
    "\n",
    "    qry = \"\"\"DROP TABLE IF EXISTS {}\"\"\".format(fname)\n",
    "    res = cur.execute(qry)\n",
    "    conn.commit()\n",
    "    conn.close()\n",
    "    return res\n",
    "    \n",
    "\n",
    "def test():\n",
    "    fnames = []\n",
    "    ### give range of test files here\n",
    "    for i in range(70, 85):\n",
    "        fnames.append('base-'+str(i))\n",
    "    for i in range(170, 185):\n",
    "        fnames.append('base-'+str(i))\n",
    "    for i in range(300, 315):\n",
    "        fnames.append('base-'+str(i))\n",
    "    print(fnames)\n",
    "    with tqdm(total= len(fnames)) as pbar1:\n",
    "        for f in fnames:\n",
    "            if os.path.exists('parsed-graphs/' + f + '.txt'):\n",
    "                convertTxtToCsv(f)\n",
    "                populateDB(f)\n",
    "                ### temp DB table name as fname\n",
    "                tableName = ''.join(f.split('-'))\n",
    "                reScores = evaluvateGraph(tableName , 'test-graphs/' + f + '.csv')\n",
    "                deleteTable(f)\n",
    "                with open('result/' + f + '.json', 'w') as fp:\n",
    "                    json.dump(reScores, fp)\n",
    "            else:\n",
    "                print('{} does not exists'.format(f))\n",
    "            pbar1.update(1)\n",
    "        \n",
    "test()"
   ]
  }
 ],
 "metadata": {
  "kernelspec": {
   "display_name": "Python 3 (ipykernel)",
   "language": "python",
   "name": "python3"
  },
  "language_info": {
   "codemirror_mode": {
    "name": "ipython",
    "version": 3
   },
   "file_extension": ".py",
   "mimetype": "text/x-python",
   "name": "python",
   "nbconvert_exporter": "python",
   "pygments_lexer": "ipython3",
   "version": "3.8.10"
  }
 },
 "nbformat": 4,
 "nbformat_minor": 4
}
