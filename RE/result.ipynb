{
 "cells": [
  {
   "cell_type": "code",
   "execution_count": 63,
   "id": "fc13cd63-e181-4839-866c-a4c79b04e1b2",
   "metadata": {
    "tags": []
   },
   "outputs": [],
   "source": [
    "import json\n",
    "import os\n",
    "import pandas as pd\n",
    "import re"
   ]
  },
  {
   "cell_type": "code",
   "execution_count": 60,
   "id": "1ed81a39-7180-400a-9d25-3ef1455f3845",
   "metadata": {
    "tags": []
   },
   "outputs": [
    {
     "name": "stdout",
     "output_type": "stream",
     "text": [
      "base-100.json - NORMAL\n",
      "base-101.json - NORMAL\n",
      "base-102.json - NORMAL\n",
      "base-103.json - NORMAL\n",
      "base-104.json - NORMAL\n",
      "base-300.json - ABNORMAL\n",
      "base-301.json - ABNORMAL\n",
      "base-302.json - ABNORMAL\n",
      "base-303.json - ABNORMAL\n",
      "base-304.json - ABNORMAL\n",
      "base-305.json - ABNORMAL\n",
      "base-45.json - NORMAL\n",
      "base-46.json - NORMAL\n",
      "base-47.json - NORMAL\n",
      "base-48.json - NORMAL\n",
      "base-49.json - NORMAL\n",
      "base-50.json - NORMAL\n"
     ]
    }
   ],
   "source": [
    "fnames = os.listdir('result/')\n",
    "if '.ipynb_checkpoints' in fnames : \n",
    "    fnames.remove('.ipynb_checkpoints')\n",
    "fnames.sort()\n",
    "\n",
    "thershold = 3.0e-11\n",
    "result = {}\n",
    "\n",
    "def getQuantiles():\n",
    "    for f in fnames:\n",
    "        # with pd.option_context('display.float_format', '{:0.20f}'.format):\n",
    "        with open('result/'+f) as json_file:\n",
    "            data = json.load(json_file)\n",
    "            reScores = pd.Series(data.values())\n",
    "            quantiles = reScores.quantile(q=[0.1, 0.15, 0.2, 0.25]).tolist()\n",
    "            result[f] =  quantiles\n",
    "\n",
    "def analyze():\n",
    "    getQuantiles()\n",
    "    for f in result:\n",
    "        if result[f][2] < thershold:\n",
    "            print('{} - ABNORMAL'.format(f))\n",
    "        else :\n",
    "            print('{} - NORMAL'.format(f))\n",
    "\n",
    "analyze()"
   ]
  },
  {
   "cell_type": "code",
   "execution_count": 69,
   "id": "eac2eafd-bbc6-4427-a20e-ef80ac57e9cf",
   "metadata": {
    "tags": []
   },
   "outputs": [
    {
     "data": {
      "text/plain": [
       "['base', '100.json']"
      ]
     },
     "execution_count": 69,
     "metadata": {},
     "output_type": "execute_result"
    }
   ],
   "source": [
    "f = 'base-100.json'\n",
    "re.split(r'-| .' , f)"
   ]
  }
 ],
 "metadata": {
  "kernelspec": {
   "display_name": "Python 3 (ipykernel)",
   "language": "python",
   "name": "python3"
  },
  "language_info": {
   "codemirror_mode": {
    "name": "ipython",
    "version": 3
   },
   "file_extension": ".py",
   "mimetype": "text/x-python",
   "name": "python",
   "nbconvert_exporter": "python",
   "pygments_lexer": "ipython3",
   "version": "3.8.10"
  }
 },
 "nbformat": 4,
 "nbformat_minor": 5
}
