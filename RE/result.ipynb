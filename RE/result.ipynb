{
 "cells": [
  {
   "cell_type": "code",
   "execution_count": 77,
   "id": "fc13cd63-e181-4839-866c-a4c79b04e1b2",
   "metadata": {
    "tags": []
   },
   "outputs": [],
   "source": [
    "import json\n",
    "import os\n",
    "import pandas as pd\n",
    "import re"
   ]
  },
  {
   "cell_type": "code",
   "execution_count": 82,
   "id": "1ed81a39-7180-400a-9d25-3ef1455f3845",
   "metadata": {
    "tags": []
   },
   "outputs": [
    {
     "name": "stdout",
     "output_type": "stream",
     "text": [
      "100 - NORMAL\n",
      "101 - NORMAL\n",
      "102 - NORMAL\n",
      "103 - NORMAL\n",
      "104 - NORMAL\n",
      "300 - ABNORMAL\n",
      "301 - ABNORMAL\n",
      "302 - ABNORMAL\n",
      "303 - ABNORMAL\n",
      "304 - ABNORMAL\n",
      "305 - ABNORMAL\n",
      "45 - NORMAL\n",
      "46 - NORMAL\n",
      "47 - NORMAL\n",
      "48 - NORMAL\n",
      "49 - NORMAL\n",
      "50 - NORMAL\n"
     ]
    }
   ],
   "source": [
    "fnames = os.listdir('result/')\n",
    "if '.ipynb_checkpoints' in fnames : \n",
    "    fnames.remove('.ipynb_checkpoints')\n",
    "fnames.sort()\n",
    "\n",
    "thershold = 3.0e-11\n",
    "result = {}\n",
    "\n",
    "def getQuantiles():\n",
    "    for f in fnames:\n",
    "        # with pd.option_context('display.float_format', '{:0.20f}'.format):\n",
    "        with open('result/'+f) as json_file:\n",
    "            data = json.load(json_file)\n",
    "            reScores = pd.Series(data.values())\n",
    "            quantiles = reScores.quantile(q=[0.1, 0.15, 0.2, 0.25]).tolist()\n",
    "            result[re.split(r'-|\\.' , f)[1]] =  quantiles\n",
    "\n",
    "def analyze():\n",
    "    getQuantiles()\n",
    "    for f in result:\n",
    "        if result[f][2] < thershold:\n",
    "            print('{} - ABNORMAL'.format(f))\n",
    "        else :\n",
    "            print('{} - NORMAL'.format(f))\n",
    "\n",
    "analyze()"
   ]
  }
 ],
 "metadata": {
  "kernelspec": {
   "display_name": "Python 3 (ipykernel)",
   "language": "python",
   "name": "python3"
  },
  "language_info": {
   "codemirror_mode": {
    "name": "ipython",
    "version": 3
   },
   "file_extension": ".py",
   "mimetype": "text/x-python",
   "name": "python",
   "nbconvert_exporter": "python",
   "pygments_lexer": "ipython3",
   "version": "3.8.10"
  }
 },
 "nbformat": 4,
 "nbformat_minor": 5
}
