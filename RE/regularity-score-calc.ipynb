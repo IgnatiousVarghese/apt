{
 "cells": [
  {
   "cell_type": "code",
   "execution_count": 20,
   "metadata": {
    "_cell_guid": "b1076dfc-b9ad-4769-8c92-a6c4dae69d19",
    "_uuid": "8f2839f25d086af736a60e9eeb907d3b93b6e0e5",
    "tags": []
   },
   "outputs": [],
   "source": [
    "import os\n",
    "import re\n",
    "import sqlite3\n",
    "import csv\n",
    "import pandas as pd\n",
    "from datetime import datetime\n",
    "from tqdm.auto import tqdm\n",
    "import json"
   ]
  },
  {
   "cell_type": "code",
   "execution_count": 21,
   "metadata": {
    "_cell_guid": "b1076dfc-b9ad-4769-8c92-a6c4dae69d19",
    "_uuid": "8f2839f25d086af736a60e9eeb907d3b93b6e0e5",
    "tags": []
   },
   "outputs": [],
   "source": [
    "counterTableName = 'counter'\n",
    "# to keep track of the logical time of last inserted edge i.e total number of edges\n",
    "\n",
    "dbname = os.path.join('toy.db')\n",
    "# train data DB\n",
    "\n",
    "# graphs pre loaded to calculate regularity score\n",
    "edgeTableName = 'edges'  \n",
    "# graph on which regularity score calculated\n",
    "evalEdgeTableName = 'edgestemp'\n",
    "\n",
    "\n",
    "totalTimeWindows = 20\n",
    "timeWindow = 1\n",
    "totalTime = 0\n",
    "\n",
    "# reScoresTable stores regularity score mapped with edge data {'edge': 'score')}\n",
    "reScoresTable = {}\n",
    "\n",
    "def timeWindowCalc():\n",
    "    global totalTime\n",
    "    global timeWindow\n",
    "    global totalTimeWindows\n",
    "    conn = sqlite3.connect(dbname)\n",
    "    cur = conn.cursor()\n",
    "    totalTime = cur.execute(\"\"\"select * from {};\"\"\".format(counterTableName)).fetchone()[0]\n",
    "    timeWindow = int(totalTime / totalTimeWindows)\n",
    "    conn.close()\n",
    "\n",
    "def getStability(src, edgeType, dest):\n",
    "    conn = sqlite3.connect(dbname)\n",
    "    cur = conn.cursor()\n",
    "    \n",
    "    #out(src)      #in(dest)\n",
    "\n",
    "    #same notation as in research paper , initial count = 0\n",
    "    T_from = 0      #out stable\n",
    "    T_to = 0        #in stable\n",
    "    T_total = 0\n",
    "\n",
    "    for timeStart in  range(1, totalTime, timeWindow):\n",
    "        timeEnd = timeStart + timeWindow - 1 \n",
    "\n",
    "        qry = \"\"\"SELECT count(*) from {}  \n",
    "                where src_type = '{}' and \n",
    "                edge_type = '{}' and\n",
    "                dest_type != '{}' and\n",
    "                logical_time >= {} and logical_time <= {};\"\"\".format(edgeTableName, src, edgeType, dest, timeStart, timeEnd)\n",
    "\n",
    "        countFrom = cur.execute(qry).fetchall()[0][0]\n",
    "\n",
    "        qry = \"\"\"SELECT count(*) from {}  \n",
    "                where dest_type = '{}' and \n",
    "                edge_type = '{}' and\n",
    "                src_type != '{}' and\n",
    "                logical_time >= {} and logical_time <= {};\"\"\".format(edgeTableName, dest, edgeType, src, timeStart, timeEnd)\n",
    "\n",
    "        countTo = cur.execute(qry).fetchall()[0][0]\n",
    "        # print('cf-{} ct-{} timestart-{}'.format(countFrom, countTo, timeStart))\n",
    "        if countFrom == 0:\n",
    "              T_from = T_from + 1 \n",
    "        if countTo == 0:\n",
    "              T_to = T_to + 1\n",
    "        T_total = T_total +1\n",
    "\n",
    "    IN_dest = float(T_to) / float(T_total)\n",
    "    OUT_src = float(T_from) / float(T_total)\n",
    "    \n",
    "    ###\n",
    "    # avoiding zero value for stability\n",
    "    ###\n",
    "    if IN_dest == 0.0:\n",
    "        IN_dest = 0.0000001\n",
    "    if OUT_src == 0.0:\n",
    "        OUT_src = 0.0000001\n",
    "    ###\n",
    "    \n",
    "    conn.close()\n",
    "    \n",
    "    reScore = float(IN_dest * OUT_src)\n",
    "    reScoresTable[\"{}{}{}\".format(src, edgeType, dest)] = reScore\n",
    "    # print(\"{} -- {}{}{}\".format(reScore, src, edgeType, dest))\n",
    "\n",
    "\n",
    "#input as src_type, edge_type, dest_type\n",
    "def calculateRegularityScore(src_type, edge_type, dest_type):\n",
    "    if totalTime == 0:\n",
    "        print('timeWindowCalc()') \n",
    "        timeWindowCalc()\n",
    "    \n",
    "    if reScoresTable.get(src_type + edge_type + dest_type) == None:\n",
    "        getStability(src_type, edge_type, dest_type)\n",
    "    \n",
    "    return reScoresTable.get(src_type + edge_type + dest_type)"
   ]
  },
  {
   "cell_type": "code",
   "execution_count": 22,
   "metadata": {
    "tags": []
   },
   "outputs": [],
   "source": [
    "def evaluvateGraph(tableName, graphFile):\n",
    "    reScores = {}\n",
    "    conn = sqlite3.connect(dbname)\n",
    "    cur = conn.cursor()\n",
    "\n",
    "    qry = \"\"\"SELECT DISTINCT dest_id from {}  \n",
    "            where dest_id not in\n",
    "            (SELECT DISTINCT dest_id from {}  \n",
    "            where dest_id not in ( SELECT DISTINCT src_id from {} ))\"\"\".format(tableName, tableName, tableName)\n",
    "\n",
    "    nonLeafDestNodes = cur.execute(qry).fetchall()\n",
    "    conn.commit()\n",
    "    conn.close()\n",
    "    \n",
    "        \n",
    "    chunk = pd.read_csv(graphFile, chunksize=10000)\n",
    "    df = pd.concat(chunk)\n",
    "    with tqdm(total=len(df.index)) as pbar:\n",
    "        for index, row in df.iterrows():\n",
    "            src_id = int(row['src_id'])\n",
    "            dest_id = int(row['dest_id'])\n",
    "            if reScores.get(src_id) == None:\n",
    "                reScores[src_id] = 1.0\n",
    "\n",
    "\n",
    "            reScore = calculateRegularityScore(row['src_type'], row['edge_type'], row['dest_type'])\n",
    "            reScores[dest_id] = reScores[src_id] * reScore\n",
    "            # print('{}---- {} {} {}'.format(reScore, row['src_type'], row['edge_type'], row['dest_type']))\n",
    "            \n",
    "            pbar.update(1)\n",
    "    for d in nonLeafDestNodes:\n",
    "        reScores.pop(d[0])\n",
    "        \n",
    "    return reScores"
   ]
  },
  {
   "cell_type": "code",
   "execution_count": 25,
   "metadata": {
    "tags": []
   },
   "outputs": [
    {
     "name": "stdout",
     "output_type": "stream",
     "text": [
      "['base-100', 'base-101', 'base-102', 'base-103', 'base-104', 'base-45', 'base-46', 'base-47', 'base-48', 'base-49', 'base-50', 'base-300', 'base-301', 'base-302', 'base-303', 'base-304', 'base-305']\n"
     ]
    },
    {
     "data": {
      "application/vnd.jupyter.widget-view+json": {
       "model_id": "8e06f4c66cc145198941948848c522c0",
       "version_major": 2,
       "version_minor": 0
      },
      "text/plain": [
       "  0%|          | 0/17 [00:00<?, ?it/s]"
      ]
     },
     "metadata": {},
     "output_type": "display_data"
    },
    {
     "data": {
      "application/vnd.jupyter.widget-view+json": {
       "model_id": "4cb5b7637aa5417ab5d7a264236c7d4a",
       "version_major": 2,
       "version_minor": 0
      },
      "text/plain": [
       "  0%|          | 0/42483 [00:00<?, ?it/s]"
      ]
     },
     "metadata": {},
     "output_type": "display_data"
    },
    {
     "name": "stdout",
     "output_type": "stream",
     "text": [
      "timeWindowCalc()\n"
     ]
    },
    {
     "data": {
      "application/vnd.jupyter.widget-view+json": {
       "model_id": "90222a90e9b24752adaea63ca2ad1010",
       "version_major": 2,
       "version_minor": 0
      },
      "text/plain": [
       "  0%|          | 0/39280 [00:00<?, ?it/s]"
      ]
     },
     "metadata": {},
     "output_type": "display_data"
    },
    {
     "data": {
      "application/vnd.jupyter.widget-view+json": {
       "model_id": "5fbef9f449744aa9861b0fd3fe981edd",
       "version_major": 2,
       "version_minor": 0
      },
      "text/plain": [
       "  0%|          | 0/34799 [00:00<?, ?it/s]"
      ]
     },
     "metadata": {},
     "output_type": "display_data"
    },
    {
     "data": {
      "application/vnd.jupyter.widget-view+json": {
       "model_id": "4781fbf195be43b494f9668ad8a14c7d",
       "version_major": 2,
       "version_minor": 0
      },
      "text/plain": [
       "  0%|          | 0/35172 [00:00<?, ?it/s]"
      ]
     },
     "metadata": {},
     "output_type": "display_data"
    },
    {
     "data": {
      "application/vnd.jupyter.widget-view+json": {
       "model_id": "2f2a16368f8c48619363588bdc155048",
       "version_major": 2,
       "version_minor": 0
      },
      "text/plain": [
       "  0%|          | 0/32700 [00:00<?, ?it/s]"
      ]
     },
     "metadata": {},
     "output_type": "display_data"
    },
    {
     "data": {
      "application/vnd.jupyter.widget-view+json": {
       "model_id": "cd449c3bc3a3496aafab2fea03fdbf85",
       "version_major": 2,
       "version_minor": 0
      },
      "text/plain": [
       "  0%|          | 0/71063 [00:00<?, ?it/s]"
      ]
     },
     "metadata": {},
     "output_type": "display_data"
    },
    {
     "data": {
      "application/vnd.jupyter.widget-view+json": {
       "model_id": "143a035c6923451aaa761a1198534134",
       "version_major": 2,
       "version_minor": 0
      },
      "text/plain": [
       "  0%|          | 0/102363 [00:00<?, ?it/s]"
      ]
     },
     "metadata": {},
     "output_type": "display_data"
    },
    {
     "data": {
      "application/vnd.jupyter.widget-view+json": {
       "model_id": "1d11afaba14647a28eb0edb4e53c529c",
       "version_major": 2,
       "version_minor": 0
      },
      "text/plain": [
       "  0%|          | 0/100267 [00:00<?, ?it/s]"
      ]
     },
     "metadata": {},
     "output_type": "display_data"
    },
    {
     "data": {
      "application/vnd.jupyter.widget-view+json": {
       "model_id": "77819f691bbf48959f4e6110efc54baf",
       "version_major": 2,
       "version_minor": 0
      },
      "text/plain": [
       "  0%|          | 0/108941 [00:00<?, ?it/s]"
      ]
     },
     "metadata": {},
     "output_type": "display_data"
    },
    {
     "data": {
      "application/vnd.jupyter.widget-view+json": {
       "model_id": "b4ed68800e784c29b8a13661e857fdd7",
       "version_major": 2,
       "version_minor": 0
      },
      "text/plain": [
       "  0%|          | 0/211105 [00:00<?, ?it/s]"
      ]
     },
     "metadata": {},
     "output_type": "display_data"
    },
    {
     "data": {
      "application/vnd.jupyter.widget-view+json": {
       "model_id": "34aeb9b21086472c9b09582352aa6f65",
       "version_major": 2,
       "version_minor": 0
      },
      "text/plain": [
       "  0%|          | 0/115736 [00:00<?, ?it/s]"
      ]
     },
     "metadata": {},
     "output_type": "display_data"
    },
    {
     "data": {
      "application/vnd.jupyter.widget-view+json": {
       "model_id": "c1b90982e9be4c4b9169d52ec4251ba0",
       "version_major": 2,
       "version_minor": 0
      },
      "text/plain": [
       "  0%|          | 0/28527 [00:00<?, ?it/s]"
      ]
     },
     "metadata": {},
     "output_type": "display_data"
    },
    {
     "data": {
      "application/vnd.jupyter.widget-view+json": {
       "model_id": "feb23b2fece64025aca1e24dba44ba30",
       "version_major": 2,
       "version_minor": 0
      },
      "text/plain": [
       "  0%|          | 0/28441 [00:00<?, ?it/s]"
      ]
     },
     "metadata": {},
     "output_type": "display_data"
    },
    {
     "data": {
      "application/vnd.jupyter.widget-view+json": {
       "model_id": "d0e47424f25f4ab1ba6d7858892e873d",
       "version_major": 2,
       "version_minor": 0
      },
      "text/plain": [
       "  0%|          | 0/28531 [00:00<?, ?it/s]"
      ]
     },
     "metadata": {},
     "output_type": "display_data"
    },
    {
     "data": {
      "application/vnd.jupyter.widget-view+json": {
       "model_id": "a7ee750d78d04fb7a2da819f8d1d03a5",
       "version_major": 2,
       "version_minor": 0
      },
      "text/plain": [
       "  0%|          | 0/28351 [00:00<?, ?it/s]"
      ]
     },
     "metadata": {},
     "output_type": "display_data"
    },
    {
     "data": {
      "application/vnd.jupyter.widget-view+json": {
       "model_id": "13641f3064bd47b2bf72b8c618c87de1",
       "version_major": 2,
       "version_minor": 0
      },
      "text/plain": [
       "  0%|          | 0/28459 [00:00<?, ?it/s]"
      ]
     },
     "metadata": {},
     "output_type": "display_data"
    },
    {
     "data": {
      "application/vnd.jupyter.widget-view+json": {
       "model_id": "e214a9af3ac845b1899a488b425ec3eb",
       "version_major": 2,
       "version_minor": 0
      },
      "text/plain": [
       "  0%|          | 0/28550 [00:00<?, ?it/s]"
      ]
     },
     "metadata": {},
     "output_type": "display_data"
    }
   ],
   "source": [
    "def convertTxtToCsv(fname):\n",
    "    with open( 'parsed-graphs/' + fname + '.txt', 'r') as in_file:\n",
    "        stripped = (line.strip() for line in in_file)\n",
    "        lines = (re.split(' |:', line) for line in stripped if line)\n",
    "        with open('test-graphs/' + fname + '.csv', 'w') as out_file:\n",
    "            writer = csv.writer(out_file)\n",
    "            writer.writerow(('src_id', 'dest_id', 'src_type', 'dest_type', 'edge_type', 'logical_time'))\n",
    "            writer.writerows(lines)\n",
    "\n",
    "def populateDB(fname):\n",
    "    # Connect to SQLite database\n",
    "    conn = sqlite3.connect(r'toy.db')\n",
    "\n",
    "    # Load CSV data into Pandas DataFrame\n",
    "    stud_data = pd.read_csv('test-graphs/' + fname + '.csv')\n",
    "    # Write the data to a sqlite table\n",
    "    stud_data.to_sql(''.join(fname.split('-')), conn, if_exists='replace')\n",
    "    conn.close()\n",
    "\n",
    "def deleteTable(fname):\n",
    "    fname = fname.replace('-', '')\n",
    "    # Connect to SQLite database\n",
    "    conn = sqlite3.connect(r'toy.db')\n",
    "    cur = conn.cursor()\n",
    "\n",
    "    qry = \"\"\"DROP TABLE IF EXISTS {}\"\"\".format(fname)\n",
    "    res = cur.execute(qry)\n",
    "    conn.commit()\n",
    "    conn.close()\n",
    "    return res\n",
    "    \n",
    "\n",
    "def test():\n",
    "    fnames = []\n",
    "    ### give range of test files here\n",
    "    for i in range(100, 105):\n",
    "        fnames.append('base-'+str(i))\n",
    "    for i in range(45, 51):\n",
    "        fnames.append('base-'+str(i))\n",
    "    for i in range(300, 306):\n",
    "        fnames.append('base-'+str(i))\n",
    "    print(fnames)\n",
    "    with tqdm(total= len(fnames)) as pbar1:\n",
    "        for f in fnames:\n",
    "            convertTxtToCsv(f)\n",
    "            populateDB(f)\n",
    "            ### temp DB table name as fname\n",
    "            tableName = ''.join(f.split('-'))\n",
    "            reScores = evaluvateGraph(tableName , 'test-graphs/' + f + '.csv')\n",
    "            deleteTable(f)\n",
    "            with open('result/' + f + '.json', 'w') as fp:\n",
    "                json.dump(reScores, fp)\n",
    "            pbar1.update(1)\n",
    "        \n",
    "test()"
   ]
  }
 ],
 "metadata": {
  "kernelspec": {
   "display_name": "Python 3 (ipykernel)",
   "language": "python",
   "name": "python3"
  },
  "language_info": {
   "codemirror_mode": {
    "name": "ipython",
    "version": 3
   },
   "file_extension": ".py",
   "mimetype": "text/x-python",
   "name": "python",
   "nbconvert_exporter": "python",
   "pygments_lexer": "ipython3",
   "version": "3.8.10"
  }
 },
 "nbformat": 4,
 "nbformat_minor": 4
}
