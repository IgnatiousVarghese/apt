{
 "cells": [
  {
   "cell_type": "code",
   "execution_count": 1,
   "id": "fc13cd63-e181-4839-866c-a4c79b04e1b2",
   "metadata": {
    "tags": []
   },
   "outputs": [],
   "source": [
    "import json\n",
    "import os\n",
    "import pandas as pd\n",
    "import re"
   ]
  },
  {
   "cell_type": "code",
   "execution_count": 32,
   "id": "1ed81a39-7180-400a-9d25-3ef1455f3845",
   "metadata": {
    "tags": []
   },
   "outputs": [
    {
     "name": "stderr",
     "output_type": "stream",
     "text": [
      "/tmp/ipykernel_146952/3005468976.py:15: FutureWarning: The default dtype for empty Series will be 'object' instead of 'float64' in a future version. Specify a dtype explicitly to silence this warning.\n",
      "  reScores = pd.Series(data.values())\n"
     ]
    },
    {
     "data": {
      "text/plain": [
       "{'170': 'NORMAL',\n",
       " '171': 'NORMAL',\n",
       " '172': 'NORMAL',\n",
       " '173': 'NORMAL',\n",
       " '174': 'NORMAL',\n",
       " '175': 'NORMAL',\n",
       " '176': 'NORMAL',\n",
       " '177': 'NORMAL',\n",
       " '178': 'NORMAL',\n",
       " '179': 'NORMAL',\n",
       " '180': 'NORMAL',\n",
       " '181': 'NORMAL',\n",
       " '182': 'NORMAL',\n",
       " '183': 'NORMAL',\n",
       " '184': 'NORMAL',\n",
       " '300': 'ABNORMAL',\n",
       " '301': 'ABNORMAL',\n",
       " '302': 'ABNORMAL',\n",
       " '303': 'ABNORMAL',\n",
       " '304': 'ABNORMAL',\n",
       " '305': 'ABNORMAL',\n",
       " '306': 'ABNORMAL',\n",
       " '307': 'ABNORMAL',\n",
       " '308': 'ABNORMAL',\n",
       " '309': 'ABNORMAL',\n",
       " '310': 'NORMAL',\n",
       " '311': 'ABNORMAL',\n",
       " '312': 'ABNORMAL',\n",
       " '313': 'ABNORMAL',\n",
       " '314': 'ABNORMAL',\n",
       " '70': 'NORMAL',\n",
       " '71': 'NORMAL',\n",
       " '72': 'NORMAL',\n",
       " '73': 'NORMAL',\n",
       " '74': 'NORMAL',\n",
       " '75': 'NORMAL',\n",
       " '76': 'NORMAL',\n",
       " '77': 'NORMAL',\n",
       " '78': 'NORMAL',\n",
       " '79': 'NORMAL',\n",
       " '80': 'NORMAL',\n",
       " '81': 'NORMAL',\n",
       " '84': 'NORMAL'}"
      ]
     },
     "execution_count": 32,
     "metadata": {},
     "output_type": "execute_result"
    }
   ],
   "source": [
    "fnames = os.listdir('result/')\n",
    "if '.ipynb_checkpoints' in fnames : \n",
    "    fnames.remove('.ipynb_checkpoints')\n",
    "fnames.sort()\n",
    "\n",
    "thershold = 3.0e-11\n",
    "result = {}\n",
    "quantiles = {}\n",
    "\n",
    "def getQuantiles():\n",
    "    for f in fnames:\n",
    "        # with pd.option_context('display.float_format', '{:0.20f}'.format):\n",
    "        with open('result/'+f) as json_file:\n",
    "            data = json.load(json_file)\n",
    "            reScores = pd.Series(data.values())\n",
    "            quantilesOfFile = reScores.quantile(q=[0.1, 0.15, 0.2, 0.25, 0.3]).tolist()\n",
    "            quantiles[re.split(r'-|\\.' , f)[1]] =  quantilesOfFile\n",
    "\n",
    "def dispalyQuantiles():\n",
    "    df = pd.DataFrame.from_dict(quantiles, orient = 'index')\n",
    "    print(df.sort_values(by = [4] ))\n",
    "    \n",
    "\n",
    "def analyze():\n",
    "    for f in quantiles:\n",
    "        if quantiles[f][4] < thershold:\n",
    "            result[f] = 'ABNORMAL'\n",
    "        else :\n",
    "            result[f] = 'NORMAL'\n",
    "    with open('result.json', 'w') as fp:\n",
    "        json.dump(result, fp)\n",
    "    return result\n",
    "\n",
    "getQuantiles()\n",
    "# dispalyQuantiles()\n",
    "analyze()"
   ]
  }
 ],
 "metadata": {
  "kernelspec": {
   "display_name": "Python 3 (ipykernel)",
   "language": "python",
   "name": "python3"
  },
  "language_info": {
   "codemirror_mode": {
    "name": "ipython",
    "version": 3
   },
   "file_extension": ".py",
   "mimetype": "text/x-python",
   "name": "python",
   "nbconvert_exporter": "python",
   "pygments_lexer": "ipython3",
   "version": "3.8.10"
  }
 },
 "nbformat": 4,
 "nbformat_minor": 5
}
