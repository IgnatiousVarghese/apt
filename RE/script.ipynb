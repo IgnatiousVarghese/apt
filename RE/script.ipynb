{
 "cells": [
  {
   "cell_type": "code",
   "execution_count": 6,
   "id": "94964628-928e-4e90-85a5-ddaf5eea5123",
   "metadata": {
    "tags": []
   },
   "outputs": [],
   "source": [
    "#### Script for training"
   ]
  },
  {
   "cell_type": "code",
   "execution_count": 7,
   "id": "412769e8-1630-4138-8366-ef025822e9ce",
   "metadata": {
    "tags": []
   },
   "outputs": [],
   "source": [
    "import re\n",
    "import sqlite3\n",
    "import os\n",
    "import csv\n",
    "import pandas as pd\n",
    "from tqdm.auto import tqdm\n",
    "\n",
    "counterTableName = 'counter'\n",
    "graphTableName = 'graph'\n",
    "edgesTableName = 'edges'\n",
    "\n",
    "timeStart = 0\n",
    "graphId = 0"
   ]
  },
  {
   "cell_type": "code",
   "execution_count": 8,
   "id": "4deca50a-ca38-48d6-bd90-afbf7f5719d5",
   "metadata": {
    "tags": []
   },
   "outputs": [],
   "source": [
    "def prepare():\n",
    "    conn = sqlite3.connect(r'toy.db')\n",
    "    cur = conn.cursor()\n",
    "\n",
    "    qry = \"\"\" SELECT * from {} \"\"\".format(counterTableName)\n",
    "    time = cur.execute(qry).fetchone()\n",
    "    \n",
    "    qry = \"\"\" SELECT * from {} \"\"\".format(graphTableName)\n",
    "    graph_id = cur.execute(qry).fetchone()\n",
    "    \n",
    "    if time == None:\n",
    "        qry = \"\"\" insert into {} values (0) \"\"\".format(counterTableName)\n",
    "        cur.execute(qry)\n",
    "    if graph_id == None:\n",
    "        qry = \"\"\" insert into {} values (0) \"\"\".format(graphTableName)\n",
    "        cur.execute(qry)  \n",
    "    conn.commit()\n",
    "    \n",
    "    qry = \"\"\" SELECT * from {} \"\"\".format(counterTableName)\n",
    "    time = cur.execute(qry).fetchone()\n",
    "    \n",
    "    qry = \"\"\" SELECT * from {} \"\"\".format(graphTableName)\n",
    "    graph_id = cur.execute(qry).fetchone()\n",
    "    conn.close()\n",
    "    \n",
    "    global timeStart \n",
    "    timeStart  = time[0]\n",
    "    global graphId \n",
    "    graphId = graph_id[0]\n",
    "    \n",
    "    print('time - {}  id - {}'.format( timeStart,  graphId))\n",
    "\n",
    "def updateDB():\n",
    "    conn = sqlite3.connect(r'toy.db')\n",
    "    cur = conn.cursor()\n",
    "    qry = \"\"\" select max(logical_time) from {}; \"\"\".format(edgesTableName)\n",
    "    time = cur.execute(qry).fetchone()\n",
    "    qry = \"\"\" update {} set time = ({})\"\"\".format(counterTableName, time[0])\n",
    "    cur.execute(qry)\n",
    "    conn.commit()\n",
    "    global graphId\n",
    "    qry = \"\"\" update {} set graph_id = ({})\"\"\".format(graphTableName, graphId+1)\n",
    "    cur.execute(qry)\n",
    "    conn.commit()\n",
    "    \n",
    "def update(line):\n",
    "    global timeStart\n",
    "    global graphId \n",
    "    line[5] = int(line[5]) + timeStart\n",
    "    line.append(graphId)\n",
    "    return(line)\n"
   ]
  },
  {
   "cell_type": "code",
   "execution_count": 9,
   "id": "ec61e1aa-80ae-4d1a-85a5-49ec33a3fb8d",
   "metadata": {
    "tags": []
   },
   "outputs": [],
   "source": [
    "def convertTxtToCsv(fname):\n",
    "    with open( 'parsed-graphs/' + fname + '.txt', 'r') as in_file:\n",
    "        stripped = (line.strip() for line in in_file)\n",
    "        lines = (update(re.split(' |:', line)) for line in stripped if line)\n",
    "        with open(fname + '.csv', 'w') as out_file:\n",
    "            writer = csv.writer(out_file)\n",
    "            writer.writerow(('src_id', 'dest_id', 'src_type', 'dest_type', 'edge_type', 'logical_time', 'graph_id'))\n",
    "            writer.writerows(lines)\n",
    "\n",
    "def populateDB(fname):\n",
    "    # Connect to SQLite database\n",
    "    conn = sqlite3.connect(r'toy.db')\n",
    "\n",
    "    # Load CSV data into Pandas DataFrame\n",
    "    stud_data = pd.read_csv(fname + '.csv')\n",
    "    # Write the data to a sqlite table\n",
    "    stud_data.to_sql(edgesTableName, conn, if_exists='append', index=False)\n",
    "\n",
    "    conn.close()\n",
    "\n",
    "    "
   ]
  },
  {
   "cell_type": "code",
   "execution_count": 10,
   "id": "e48dd33c-10d8-43aa-ba59-c3902537591f",
   "metadata": {
    "tags": []
   },
   "outputs": [
    {
     "name": "stdout",
     "output_type": "stream",
     "text": [
      "['base-0', 'base-1', 'base-2', 'base-3', 'base-4', 'base-5', 'base-6', 'base-7', 'base-8', 'base-9', 'base-10', 'base-11', 'base-12', 'base-13', 'base-14', 'base-15', 'base-16', 'base-17', 'base-18', 'base-19', 'base-20', 'base-21', 'base-22', 'base-23', 'base-24', 'base-25']\n"
     ]
    },
    {
     "data": {
      "application/vnd.jupyter.widget-view+json": {
       "model_id": "1a0588b411b246ff813119775803291f",
       "version_major": 2,
       "version_minor": 0
      },
      "text/plain": [
       "  0%|          | 0/26 [00:00<?, ?it/s]"
      ]
     },
     "metadata": {},
     "output_type": "display_data"
    },
    {
     "name": "stdout",
     "output_type": "stream",
     "text": [
      "time - 0  id - 0\n",
      "0\n",
      "time - 104968  id - 1\n",
      "104968\n",
      "time - 181480  id - 2\n",
      "181480\n",
      "time - 392325  id - 3\n",
      "392325\n",
      "time - 471690  id - 4\n",
      "471690\n",
      "time - 571235  id - 5\n",
      "571235\n",
      "time - 681808  id - 6\n",
      "681808\n",
      "time - 760090  id - 7\n",
      "760090\n",
      "time - 856573  id - 8\n",
      "856573\n",
      "time - 936587  id - 9\n",
      "936587\n",
      "time - 1006584  id - 10\n",
      "1006584\n",
      "time - 1105999  id - 11\n",
      "1105999\n",
      "time - 1230033  id - 12\n",
      "1230033\n",
      "time - 1340011  id - 13\n",
      "1340011\n",
      "time - 1456541  id - 14\n",
      "1456541\n",
      "time - 1543727  id - 15\n",
      "1543727\n",
      "time - 1641798  id - 16\n",
      "1641798\n",
      "time - 1742205  id - 17\n",
      "1742205\n",
      "time - 1838952  id - 18\n",
      "1838952\n",
      "time - 1960053  id - 19\n",
      "1960053\n",
      "time - 2086127  id - 20\n",
      "2086127\n",
      "time - 2162683  id - 21\n",
      "2162683\n",
      "time - 2260271  id - 22\n",
      "2260271\n",
      "time - 2374342  id - 23\n",
      "2374342\n",
      "time - 2467239  id - 24\n",
      "2467239\n",
      "time - 2599882  id - 25\n",
      "2599882\n"
     ]
    }
   ],
   "source": [
    "   \n",
    "### for training data\n",
    "def train():\n",
    "    fnames = []\n",
    "    for i in range(0, 26):\n",
    "        fnames.append('base-'+str(i))\n",
    "    print(fnames)\n",
    "    with tqdm(total= len(fnames)) as pbar1:\n",
    "        for f in fnames:\n",
    "            prepare()\n",
    "            global timeStart\n",
    "            print(timeStart)\n",
    "            convertTxtToCsv(f)\n",
    "            populateDB(f)\n",
    "            updateDB()\n",
    "            os.remove(f + '.csv')\n",
    "            pbar1.update(1)\n",
    "\n",
    "train()"
   ]
  }
 ],
 "metadata": {
  "kernelspec": {
   "display_name": "Python 3 (ipykernel)",
   "language": "python",
   "name": "python3"
  },
  "language_info": {
   "codemirror_mode": {
    "name": "ipython",
    "version": 3
   },
   "file_extension": ".py",
   "mimetype": "text/x-python",
   "name": "python",
   "nbconvert_exporter": "python",
   "pygments_lexer": "ipython3",
   "version": "3.8.10"
  }
 },
 "nbformat": 4,
 "nbformat_minor": 5
}
