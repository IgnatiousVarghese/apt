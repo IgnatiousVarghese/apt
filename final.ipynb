{
 "cells": [
  {
   "cell_type": "code",
   "execution_count": 14,
   "id": "f20e8c65-000b-4167-99ef-5da907345a02",
   "metadata": {
    "tags": []
   },
   "outputs": [],
   "source": [
    "import json\n",
    "import os\n",
    "import pandas as pd\n",
    "import re"
   ]
  },
  {
   "cell_type": "code",
   "execution_count": 15,
   "id": "3be09335-0938-488e-916c-c36f14fa913e",
   "metadata": {},
   "outputs": [],
   "source": [
    "def getAccuracy(result):\n",
    "    cp = 0\n",
    "    wp = 0\n",
    "    for f in result:\n",
    "        if int(f) < 400 and int(f) >= 300:\n",
    "            if result[f] == 'NORMAL':\n",
    "                wp = wp + 1\n",
    "            else:\n",
    "                cp = cp + 1\n",
    "        else:\n",
    "            if result[f] == 'ABNORMAL':\n",
    "                wp = wp + 1\n",
    "            else:\n",
    "                cp = cp + 1\n",
    "    print('Accuracy = {}'.format(cp/len(result)))\n",
    "                \n",
    "        "
   ]
  },
  {
   "cell_type": "code",
   "execution_count": 16,
   "id": "7b54693f-0677-46e1-91c0-033afae7d19b",
   "metadata": {
    "tags": []
   },
   "outputs": [],
   "source": [
    "f = open('output/result.json')\n",
    "unicornResult = json.load(f)\n",
    "\n",
    "f = open('RE/result.json')\n",
    "REResult = json.load(f)"
   ]
  },
  {
   "cell_type": "code",
   "execution_count": 18,
   "id": "3d23933a-a7bb-44be-8eb5-078420fb1ee9",
   "metadata": {
    "tags": []
   },
   "outputs": [
    {
     "name": "stdout",
     "output_type": "stream",
     "text": [
      "Accuracy = 0.9767441860465116\n",
      "Accuracy = 0.9767441860465116\n",
      "Accuracy = 0.9767441860465116\n"
     ]
    }
   ],
   "source": [
    "finalResult = {}\n",
    "def combineResults():\n",
    "    for f in unicornResult:\n",
    "        if unicornResult[f] == 'ABNORMAL' and REResult[f] == 'ABNORMAL':\n",
    "            finalResult[f] = 'ABNORMAL'\n",
    "        else:\n",
    "            finalResult[f] = 'NORMAL'\n",
    "\n",
    "combineResults()\n",
    "getAccuracy(REResult)    \n",
    "getAccuracy(unicornResult)\n",
    "getAccuracy(finalResult)            "
   ]
  }
 ],
 "metadata": {
  "kernelspec": {
   "display_name": "Python 3 (ipykernel)",
   "language": "python",
   "name": "python3"
  },
  "language_info": {
   "codemirror_mode": {
    "name": "ipython",
    "version": 3
   },
   "file_extension": ".py",
   "mimetype": "text/x-python",
   "name": "python",
   "nbconvert_exporter": "python",
   "pygments_lexer": "ipython3",
   "version": "3.8.10"
  }
 },
 "nbformat": 4,
 "nbformat_minor": 5
}
